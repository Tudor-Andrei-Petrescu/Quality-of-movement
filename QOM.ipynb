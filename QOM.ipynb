{
 "cells": [
  {
   "cell_type": "code",
   "execution_count": 88,
   "id": "9aa9172c",
   "metadata": {},
   "outputs": [],
   "source": [
    "import numpy as np\n",
    "from scipy.interpolate import interp1d\n",
    "import matplotlib.pyplot as plt \n",
    "%matplotlib inline\n",
    "\n",
    "\n",
    "\n",
    "import os\n",
    "\n",
    "import json\n",
    "\n",
    "import itertools\n",
    "\n",
    "from pickle import load,dump\n",
    "\n"
   ]
  },
  {
   "cell_type": "code",
   "execution_count": 2,
   "id": "7226a236",
   "metadata": {},
   "outputs": [],
   "source": [
    "#get the name of the subfolders containing the frames and the (x,y) coordinates \n",
    "subfolders = [ f.path for f in os.scandir('./jk_data_only_22') if f.is_dir() ]"
   ]
  },
  {
   "cell_type": "code",
   "execution_count": 3,
   "id": "59507a8d",
   "metadata": {},
   "outputs": [],
   "source": [
    "#mapping class name to an integer\n",
    "class_labels = {}\n",
    "\n",
    "class_labels['correct'] = 0\n",
    "class_labels['incorrect_chin_tuck'] = 1\n",
    "class_labels['incorrect_lean_fwd'] = 2\n",
    "class_labels['incorrect_feet_close'] = 3\n",
    "class_labels['incorrect_not_low'] = 4\n",
    "class_labels['incorrect_out_knees'] = 5\n"
   ]
  },
  {
   "cell_type": "code",
   "execution_count": 4,
   "id": "5f179e7d",
   "metadata": {},
   "outputs": [],
   "source": [
    "#mapping the name of the folder to the beginning of the filename(each folder has different file beginnings)\n",
    "folder_to_filename = {}\n",
    "\n",
    "\n",
    "folder_to_filename['a'] = 'DSC_0808_'\n",
    "folder_to_filename['ax'] = 'DSC_0801_'\n",
    "\n",
    "folder_to_filename['J_01'] = 'JVID2_'\n",
    "folder_to_filename['J_02'] = 'DSC_0704_'\n",
    "folder_to_filename['J_03'] = 'DSC_0703_'\n",
    "folder_to_filename['J_04'] = 'DSC_0702_'\n",
    "folder_to_filename['J_05'] = 'D4_'\n",
    "folder_to_filename['J_06'] = 'DSC_0707_'\n",
    "folder_to_filename['J_07'] = 'DSC_0701_'\n",
    "folder_to_filename['J_08'] = 'DSC_0734_'\n",
    "folder_to_filename['J_09'] = 'DSC_0810_'\n",
    "\n",
    "folder_to_filename['l'] = 'DSC_0809_'\n",
    "folder_to_filename['n'] = 'DSC_0806_'\n",
    "folder_to_filename['r'] = 'DSC_0807_'\n",
    "folder_to_filename['ry'] = 'DSC_0805_'\n",
    "folder_to_filename['t'] = 'DSC_0804_'\n",
    "\n",
    "folder_to_filename['S_01'] = 'DSC_0811_'\n",
    "folder_to_filename['S_02'] = 'DSC_0705_'\n",
    "folder_to_filename['S_03'] = 'DSC_0735_'\n",
    "\n",
    "folder_to_filename['W_01'] = 'DSC_0802_'\n",
    "folder_to_filename['W_02'] = 'DSC_0803_'\n",
    "\n",
    "\n"
   ]
  },
  {
   "cell_type": "code",
   "execution_count": 5,
   "id": "1ac8817d",
   "metadata": {},
   "outputs": [
    {
     "name": "stdout",
     "output_type": "stream",
     "text": [
      "['./jk_data_only_22/video_details', './jk_data_only_22/openposedata']\n"
     ]
    }
   ],
   "source": [
    "print(subfolders)\n",
    "video_path = subfolders[0]\n",
    "data_path = subfolders[1]"
   ]
  },
  {
   "cell_type": "code",
   "execution_count": 6,
   "id": "f2197520",
   "metadata": {},
   "outputs": [],
   "source": [
    "video_files = os.listdir(video_path)\n",
    "video_files.sort()"
   ]
  },
  {
   "cell_type": "code",
   "execution_count": 7,
   "id": "375acfb3",
   "metadata": {},
   "outputs": [
    {
     "name": "stdout",
     "output_type": "stream",
     "text": [
      "['J_01.json', 'J_02.json', 'J_03.json', 'J_04.json', 'J_05.json', 'J_06.json', 'J_07.json', 'J_08.json', 'J_09.json', 'S_01.json', 'S_02.json', 'S_03.json', 'W_01.json', 'W_02.json', 'a.json', 'ax.json', 'l.json', 'n.json', 'r.json', 'ry.json', 't.json']\n"
     ]
    }
   ],
   "source": [
    "print(video_files)"
   ]
  },
  {
   "cell_type": "markdown",
   "id": "c4ed71a1",
   "metadata": {},
   "source": [
    "## Create the structure containing the JSONs(start frame, end frame, label for each pair) of each openpose folder"
   ]
  },
  {
   "cell_type": "code",
   "execution_count": 8,
   "id": "10861d89",
   "metadata": {},
   "outputs": [],
   "source": [
    "\n",
    "start_end_frames=[]\n",
    "\n",
    "for i in range(0,len(video_files)):\n",
    "       with open(video_path+'/'+video_files[i], 'r') as j:\n",
    "            \n",
    "            contents = json.load(j)\n",
    "            start_end_frames.append(contents)"
   ]
  },
  {
   "cell_type": "markdown",
   "id": "349c92d6",
   "metadata": {},
   "source": [
    "### Checking that each JSON contains an even number of values(since they are start-end frame pairs)"
   ]
  },
  {
   "cell_type": "code",
   "execution_count": 9,
   "id": "4a6a841d",
   "metadata": {},
   "outputs": [
    {
     "name": "stdout",
     "output_type": "stream",
     "text": [
      "True\n",
      "True\n",
      "True\n",
      "True\n",
      "True\n",
      "True\n",
      "True\n",
      "True\n",
      "True\n",
      "True\n",
      "True\n",
      "True\n",
      "True\n",
      "True\n",
      "True\n",
      "True\n",
      "True\n",
      "True\n",
      "True\n",
      "True\n",
      "True\n"
     ]
    }
   ],
   "source": [
    "for i in range(len(video_files)):\n",
    "    print(len(start_end_frames[i]['squats'][0]['in_and_out']) % 2 == 0)"
   ]
  },
  {
   "cell_type": "code",
   "execution_count": 10,
   "id": "658ca6ef",
   "metadata": {},
   "outputs": [],
   "source": [
    "def convert_to_frame_no(frame):\n",
    "    \n",
    "    size = 1\n",
    "    tmp = frame\n",
    "    \n",
    "    while tmp >=10:\n",
    "        \n",
    "        tmp = tmp/10\n",
    "        size+=1\n",
    "        \n",
    "    leads=''\n",
    "    \n",
    "    for i in range(12-size):\n",
    "        \n",
    "        leads+='0'\n",
    "    \n",
    "    return leads + str(frame) + \"_keypoints.json\"\n",
    "    "
   ]
  },
  {
   "cell_type": "code",
   "execution_count": null,
   "id": "1e7be7b2",
   "metadata": {},
   "outputs": [],
   "source": []
  },
  {
   "cell_type": "markdown",
   "id": "940f6d45",
   "metadata": {},
   "source": [
    "## Trying to read from the openpose folder"
   ]
  },
  {
   "cell_type": "code",
   "execution_count": 11,
   "id": "97f3be51",
   "metadata": {},
   "outputs": [
    {
     "data": {
      "text/plain": [
       "['t',\n",
       " 'l',\n",
       " 'ry',\n",
       " 'a',\n",
       " 'J_07',\n",
       " 'J_05',\n",
       " 'W_02',\n",
       " 'J_06',\n",
       " 'S_01',\n",
       " 'J_08',\n",
       " 'S_03',\n",
       " 'W_01',\n",
       " 'J_09',\n",
       " 'ax',\n",
       " 'r',\n",
       " 'J_02',\n",
       " 'S_02',\n",
       " 'n',\n",
       " 'J_01',\n",
       " 'J_04',\n",
       " 'J_03']"
      ]
     },
     "execution_count": 11,
     "metadata": {},
     "output_type": "execute_result"
    }
   ],
   "source": [
    "os.listdir(data_path)"
   ]
  },
  {
   "cell_type": "code",
   "execution_count": 12,
   "id": "01ab3684",
   "metadata": {},
   "outputs": [],
   "source": [
    "\n",
    "#But when two people are in frame,both have same number of (x,y) coordinates, but some end files have just\n",
    "#one person in frame, how to choose which one to use??(no depth information)\n",
    "def most_keypoints(data):\n",
    "    \n",
    "    l0 = data['people'][0]['pose_keypoints']\n",
    "    l1 = data['people'][1]['pose_keypoints']\n",
    "    \n",
    "    if len(l0) >= len(l1):\n",
    "        return 0\n",
    "    \n",
    "    else:\n",
    "        return 1"
   ]
  },
  {
   "cell_type": "code",
   "execution_count": 13,
   "id": "5bdfa3cc",
   "metadata": {},
   "outputs": [],
   "source": [
    "y=[]\n",
    "X=[]\n",
    "\n",
    "\n"
   ]
  },
  {
   "cell_type": "code",
   "execution_count": 14,
   "id": "c2a490c4",
   "metadata": {},
   "outputs": [],
   "source": [
    "for i in range(len(video_files)):\n",
    "    #get the name of the folder in the openposedata(e.g. a, J_01 etc.)\n",
    "    folder = video_files[i].split('.')[0]\n",
    "    \n",
    "    labels = start_end_frames[i]['squats'][0]['class_label']\n",
    "    #In and out frames for the current folder\n",
    "    start_end = start_end_frames[i]['squats'][0]['in_and_out']\n",
    "    \n",
    "    converted_labels = [class_labels[label] for label in labels]\n",
    "    y = y+converted_labels\n",
    "    \n",
    "    file_name = folder_to_filename[folder]\n",
    "    path = data_path + '/' + folder + '/' + file_name\n",
    "    \n",
    "    for frame in range(0,len(start_end),2):\n",
    "        #get start and end frame for each squat\n",
    "        start_frame = start_end[frame]\n",
    "        end_frame = start_end[frame+1]\n",
    "        \n",
    "        frames_sequence=[]\n",
    "        #iterate through all the frames in between, open each json and add the list of (x,y) coordinates to the \n",
    "        #frames_sequence list\n",
    "        for sequence in range(start_frame,end_frame+1):\n",
    "            \n",
    "            frame_number_json = convert_to_frame_no(sequence)\n",
    "            \n",
    "            with open(path + frame_number_json, 'r') as j:\n",
    "        \n",
    "                json_data = json.load(j)\n",
    "                pos = 0\n",
    "                \n",
    "                if len(json_data['people']) > 1: \n",
    "                    \n",
    "                    pos = most_keypoints(json_data)\n",
    "                    \n",
    "                points_with_confidence = json_data['people'][pos]['pose_keypoints']\n",
    "                #remove the confidence values\n",
    "                keypoints = [(points_with_confidence[k],points_with_confidence[k+1]) for k in range(0,len(points_with_confidence)-2,3)]\n",
    "                \n",
    "                keypoints = list(itertools.chain(*keypoints))\n",
    "                \n",
    "                frames_sequence.append(keypoints)\n",
    "        \n",
    "        \n",
    "        X.append(frames_sequence)\n",
    "                \n",
    "                \n",
    "                \n",
    "                \n",
    "                \n",
    "\n",
    "            \n",
    "        "
   ]
  },
  {
   "cell_type": "code",
   "execution_count": 15,
   "id": "f12feccc",
   "metadata": {},
   "outputs": [
    {
     "name": "stderr",
     "output_type": "stream",
     "text": [
      "<ipython-input-15-6c4156275ea8>:1: VisibleDeprecationWarning: Creating an ndarray from ragged nested sequences (which is a list-or-tuple of lists-or-tuples-or ndarrays with different lengths or shapes) is deprecated. If you meant to do this, you must specify 'dtype=object' when creating the ndarray.\n",
      "  X = np.array(X)\n"
     ]
    }
   ],
   "source": [
    "X = np.array(X)\n",
    "y = np.array(y)"
   ]
  },
  {
   "cell_type": "code",
   "execution_count": 16,
   "id": "8018c45c",
   "metadata": {},
   "outputs": [
    {
     "name": "stdout",
     "output_type": "stream",
     "text": [
      "0  count is  70\n",
      "1  count is  57\n",
      "2  count is  55\n",
      "3  count is  55\n",
      "4  count is  54\n",
      "5  count is  5\n"
     ]
    }
   ],
   "source": [
    "#check the number of datapoints per class\n",
    "p = list(y)\n",
    "for i in range(0,6):\n",
    "    print(i,\" count is \", p.count(i))"
   ]
  },
  {
   "cell_type": "code",
   "execution_count": 33,
   "id": "ad5415d2",
   "metadata": {},
   "outputs": [],
   "source": [
    "def interpolate_frames(frame_seq, num_frames):\n",
    "    \n",
    "    initial_frame_no = len(frame_seq)\n",
    "    \n",
    "    #this will be returned after interpolation\n",
    "    interpolated_squat = np.zeros((num_frames,36))\n",
    "    ##18 (x,y) pairs\n",
    "    for i in range(18):\n",
    "        #first, interpolate the X coordinate\n",
    "        \n",
    "        x = np.arange(initial_frame_no)\n",
    "        y = frame_seq[:, i*2]\n",
    "        f = interp1d(x, y, kind = 'cubic')\n",
    "        \n",
    "        x_new = np.linspace(0, initial_frame_no-1, num_frames)\n",
    "        y_new = f(x_new)\n",
    "        interpolated_squat[:, i*2] = y_new\n",
    "        \n",
    "        #interpolate Y\n",
    "        \n",
    "        y = frame_seq[:, i*2 + 1]\n",
    "        \n",
    "        f = interp1d(x, y, kind = 'cubic')\n",
    "        y_new = f(x_new)\n",
    "        interpolated_squat[:, i*2 + 1] = y_new\n",
    "    \n",
    "    \n",
    "    return interpolated_squat\n",
    "\n",
    "\n",
    "    \n",
    "    "
   ]
  },
  {
   "cell_type": "code",
   "execution_count": 50,
   "id": "5fc0663e",
   "metadata": {},
   "outputs": [],
   "source": [
    "#TODO:\n",
    "\n",
    "#Iterate through the current data structure containing the squats\n",
    "\n",
    "#Get each squats(i.e. the sequence of frames)\n",
    "\n",
    "#Convert to np array\n",
    "\n",
    "#Apply the interpolate_frames function\n",
    "\n",
    "#Flatten \n",
    "\n",
    "#Save it in a new np array\n",
    "\n",
    "interpolated_frames = []\n",
    "\n",
    "for i in range(0,len(X)):\n",
    "    \n",
    "    squat = np.array(X[i])\n",
    "    interpolated_squat = interpolate_frames(squat,100)\n",
    "    \n",
    "    interpolated_squat = interpolated_squat.flatten()\n",
    "    interpolated_frames.append(interpolated_squat)"
   ]
  },
  {
   "cell_type": "code",
   "execution_count": 54,
   "id": "1c67e1eb",
   "metadata": {},
   "outputs": [
    {
     "data": {
      "text/plain": [
       "(296, 3600)"
      ]
     },
     "execution_count": 54,
     "metadata": {},
     "output_type": "execute_result"
    }
   ],
   "source": [
    "interpolated_frames = np.array(interpolated_frames)\n",
    "\n",
    "interpolated_frames.shape"
   ]
  },
  {
   "cell_type": "code",
   "execution_count": 58,
   "id": "75f8d865",
   "metadata": {},
   "outputs": [],
   "source": [
    "with open('interp_frames','wb') as file:\n",
    "    dump(interpolated_frames,file)"
   ]
  },
  {
   "cell_type": "markdown",
   "id": "92bdba46",
   "metadata": {},
   "source": [
    "## PCA"
   ]
  },
  {
   "cell_type": "code",
   "execution_count": 93,
   "id": "c6e34d9d",
   "metadata": {},
   "outputs": [],
   "source": [
    "from sklearn.decomposition import KernelPCA, PCA\n",
    "from sklearn.preprocessing import StandardScaler\n"
   ]
  },
  {
   "cell_type": "code",
   "execution_count": 82,
   "id": "2a792704",
   "metadata": {},
   "outputs": [
    {
     "data": {
      "text/plain": [
       "(296, 3600)"
      ]
     },
     "execution_count": 82,
     "metadata": {},
     "output_type": "execute_result"
    }
   ],
   "source": [
    "interpolated_frames.shape"
   ]
  },
  {
   "cell_type": "code",
   "execution_count": 84,
   "id": "aefef8b5",
   "metadata": {},
   "outputs": [
    {
     "data": {
      "text/html": [
       "<style>#sk-container-id-4 {color: black;background-color: white;}#sk-container-id-4 pre{padding: 0;}#sk-container-id-4 div.sk-toggleable {background-color: white;}#sk-container-id-4 label.sk-toggleable__label {cursor: pointer;display: block;width: 100%;margin-bottom: 0;padding: 0.3em;box-sizing: border-box;text-align: center;}#sk-container-id-4 label.sk-toggleable__label-arrow:before {content: \"▸\";float: left;margin-right: 0.25em;color: #696969;}#sk-container-id-4 label.sk-toggleable__label-arrow:hover:before {color: black;}#sk-container-id-4 div.sk-estimator:hover label.sk-toggleable__label-arrow:before {color: black;}#sk-container-id-4 div.sk-toggleable__content {max-height: 0;max-width: 0;overflow: hidden;text-align: left;background-color: #f0f8ff;}#sk-container-id-4 div.sk-toggleable__content pre {margin: 0.2em;color: black;border-radius: 0.25em;background-color: #f0f8ff;}#sk-container-id-4 input.sk-toggleable__control:checked~div.sk-toggleable__content {max-height: 200px;max-width: 100%;overflow: auto;}#sk-container-id-4 input.sk-toggleable__control:checked~label.sk-toggleable__label-arrow:before {content: \"▾\";}#sk-container-id-4 div.sk-estimator input.sk-toggleable__control:checked~label.sk-toggleable__label {background-color: #d4ebff;}#sk-container-id-4 div.sk-label input.sk-toggleable__control:checked~label.sk-toggleable__label {background-color: #d4ebff;}#sk-container-id-4 input.sk-hidden--visually {border: 0;clip: rect(1px 1px 1px 1px);clip: rect(1px, 1px, 1px, 1px);height: 1px;margin: -1px;overflow: hidden;padding: 0;position: absolute;width: 1px;}#sk-container-id-4 div.sk-estimator {font-family: monospace;background-color: #f0f8ff;border: 1px dotted black;border-radius: 0.25em;box-sizing: border-box;margin-bottom: 0.5em;}#sk-container-id-4 div.sk-estimator:hover {background-color: #d4ebff;}#sk-container-id-4 div.sk-parallel-item::after {content: \"\";width: 100%;border-bottom: 1px solid gray;flex-grow: 1;}#sk-container-id-4 div.sk-label:hover label.sk-toggleable__label {background-color: #d4ebff;}#sk-container-id-4 div.sk-serial::before {content: \"\";position: absolute;border-left: 1px solid gray;box-sizing: border-box;top: 0;bottom: 0;left: 50%;z-index: 0;}#sk-container-id-4 div.sk-serial {display: flex;flex-direction: column;align-items: center;background-color: white;padding-right: 0.2em;padding-left: 0.2em;position: relative;}#sk-container-id-4 div.sk-item {position: relative;z-index: 1;}#sk-container-id-4 div.sk-parallel {display: flex;align-items: stretch;justify-content: center;background-color: white;position: relative;}#sk-container-id-4 div.sk-item::before, #sk-container-id-4 div.sk-parallel-item::before {content: \"\";position: absolute;border-left: 1px solid gray;box-sizing: border-box;top: 0;bottom: 0;left: 50%;z-index: -1;}#sk-container-id-4 div.sk-parallel-item {display: flex;flex-direction: column;z-index: 1;position: relative;background-color: white;}#sk-container-id-4 div.sk-parallel-item:first-child::after {align-self: flex-end;width: 50%;}#sk-container-id-4 div.sk-parallel-item:last-child::after {align-self: flex-start;width: 50%;}#sk-container-id-4 div.sk-parallel-item:only-child::after {width: 0;}#sk-container-id-4 div.sk-dashed-wrapped {border: 1px dashed gray;margin: 0 0.4em 0.5em 0.4em;box-sizing: border-box;padding-bottom: 0.4em;background-color: white;}#sk-container-id-4 div.sk-label label {font-family: monospace;font-weight: bold;display: inline-block;line-height: 1.2em;}#sk-container-id-4 div.sk-label-container {text-align: center;}#sk-container-id-4 div.sk-container {/* jupyter's `normalize.less` sets `[hidden] { display: none; }` but bootstrap.min.css set `[hidden] { display: none !important; }` so we also need the `!important` here to be able to override the default hidden behavior on the sphinx rendered scikit-learn.org. See: https://github.com/scikit-learn/scikit-learn/issues/21755 */display: inline-block !important;position: relative;}#sk-container-id-4 div.sk-text-repr-fallback {display: none;}</style><div id=\"sk-container-id-4\" class=\"sk-top-container\"><div class=\"sk-text-repr-fallback\"><pre>PCA(n_components=40)</pre><b>In a Jupyter environment, please rerun this cell to show the HTML representation or trust the notebook. <br />On GitHub, the HTML representation is unable to render, please try loading this page with nbviewer.org.</b></div><div class=\"sk-container\" hidden><div class=\"sk-item\"><div class=\"sk-estimator sk-toggleable\"><input class=\"sk-toggleable__control sk-hidden--visually\" id=\"sk-estimator-id-4\" type=\"checkbox\" checked><label for=\"sk-estimator-id-4\" class=\"sk-toggleable__label sk-toggleable__label-arrow\">PCA</label><div class=\"sk-toggleable__content\"><pre>PCA(n_components=40)</pre></div></div></div></div></div>"
      ],
      "text/plain": [
       "PCA(n_components=40)"
      ]
     },
     "execution_count": 84,
     "metadata": {},
     "output_type": "execute_result"
    }
   ],
   "source": [
    "pca = PCA(n_components = 40)\n",
    "pca.fit(interpolated_frames)\n"
   ]
  },
  {
   "cell_type": "code",
   "execution_count": 87,
   "id": "ad428d86",
   "metadata": {},
   "outputs": [
    {
     "data": {
      "text/plain": [
       "Text(0, 0.5, 'Explained variance')"
      ]
     },
     "execution_count": 87,
     "metadata": {},
     "output_type": "execute_result"
    },
    {
     "data": {
      "image/png": "[encoded data removed]",
      "text/plain": [
       "<Figure size 432x288 with 1 Axes>"
      ]
     },
     "metadata": {
      "needs_background": "light"
     },
     "output_type": "display_data"
    }
   ],
   "source": [
    "plt.grid()\n",
    "plt.plot(np.cumsum(pca.explained_variance_ratio_ * 100))\n",
    "plt.xlabel('Number of components')\n",
    "plt.ylabel('Explained variance')"
   ]
  },
  {
   "cell_type": "code",
   "execution_count": 102,
   "id": "0726cfab",
   "metadata": {},
   "outputs": [
    {
     "data": {
      "text/plain": [
       "(296, 40)"
      ]
     },
     "execution_count": 102,
     "metadata": {},
     "output_type": "execute_result"
    }
   ],
   "source": [
    "X_t = pca.transform(interpolated_frames)\n",
    "X_t.shape\n"
   ]
  },
  {
   "cell_type": "markdown",
   "id": "e61c53c7",
   "metadata": {},
   "source": [
    "### Dataset needs to be shuffled before applying any ML models to it!"
   ]
  },
  {
   "cell_type": "code",
   "execution_count": null,
   "id": "e71f0a99",
   "metadata": {},
   "outputs": [],
   "source": [
    "\n"
   ]
  },
  {
   "cell_type": "markdown",
   "id": "b96db847",
   "metadata": {},
   "source": [
    "# Observations made so far:\n",
    "\n",
    "### Start and end frames each have 36 key_points total (which means 18 (x,y) pairs)\n",
    "### Some start frames have two people in them\n",
    "### Although some start frames have two people in them, some end frames end with just a person in frame\n",
    "### One of the files had a missing comma, which had to be added i.o.t. carry on reading the JSON\n",
    "### Incredibly few labelled points(only 296) --> SMOTE(Synthetic Minority Oversampling Technique), ADASYN(Adaptive Synthetic Sampling Approach )\n",
    "### Another reason for which the number of points is problematic --> the number of dimensions is 36 * number of frames per label, so curse of dimensionality(PCA is a must)\n",
    "### Different number of frames per squat --> interpolation\n",
    "### Over the 296 datapoints, the number of points belonging to class 5 (incorrect_out_knees) is incredibly small, will definitely lead to biases\n",
    "\n"
   ]
  },
  {
   "cell_type": "code",
   "execution_count": null,
   "id": "0923388c",
   "metadata": {},
   "outputs": [],
   "source": []
  },
  {
   "cell_type": "code",
   "execution_count": null,
   "id": "947001af",
   "metadata": {},
   "outputs": [],
   "source": []
  },
  {
   "cell_type": "code",
   "execution_count": null,
   "id": "fb714603",
   "metadata": {},
   "outputs": [],
   "source": []
  }
 ],
 "metadata": {
  "kernelspec": {
   "display_name": "Python 3",
   "language": "python",
   "name": "python3"
  },
  "language_info": {
   "codemirror_mode": {
    "name": "ipython",
    "version": 3
   },
   "file_extension": ".py",
   "mimetype": "text/x-python",
   "name": "python",
   "nbconvert_exporter": "python",
   "pygments_lexer": "ipython3",
   "version": "3.8.8"
  }
 },
 "nbformat": 4,
 "nbformat_minor": 5
}
